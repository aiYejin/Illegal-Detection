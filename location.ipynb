{
 "cells": [
  {
   "cell_type": "code",
   "execution_count": 1,
   "metadata": {},
   "outputs": [
    {
     "name": "stdout",
     "output_type": "stream",
     "text": [
      "Clicked at: x = 570, y = 311\n",
      "Clicked at: x = 781, y = 311\n",
      "Clicked at: x = 605, y = 252\n"
     ]
    }
   ],
   "source": [
    "import cv2\n",
    "\n",
    "# 마우스 콜백 함수\n",
    "def mouse_callback(event, x, y, flags, param):\n",
    "    if event == cv2.EVENT_LBUTTONDOWN:  # 왼쪽 마우스 버튼이 눌렸을 때\n",
    "        print(f\"Clicked at: x = {x}, y = {y}\")\n",
    "\n",
    "def show_frame_and_get_coordinates(video_path):\n",
    "    \"\"\"\n",
    "    영상의 첫 프레임을 화면에 띄우고, 사용자가 클릭한 위치의 좌표를 출력합니다.\n",
    "    \n",
    "    Parameters:\n",
    "    - video_path: 처리할 영상의 경로\n",
    "    \"\"\"\n",
    "    # 영상을 불러옵니다.\n",
    "    cap = cv2.VideoCapture(video_path)\n",
    "    if not cap.isOpened():\n",
    "        print(\"Error: Could not open video.\")\n",
    "        return\n",
    "    \n",
    "    ret, frame = cap.read()\n",
    "    if not ret:\n",
    "        print(\"Error: Could not read frame.\")\n",
    "        cap.release()\n",
    "        return\n",
    "    \n",
    "    # 'frame' 창에 마우스 콜백 함수를 설정합니다.\n",
    "    cv2.namedWindow('frame')\n",
    "    cv2.setMouseCallback('frame', mouse_callback)\n",
    "    \n",
    "    # 첫 프레임을 화면에 띄웁니다.\n",
    "    cv2.imshow('frame', frame)\n",
    "    cv2.waitKey(0)  # 사용자 입력을 기다립니다.\n",
    "    \n",
    "    cap.release()\n",
    "    cv2.destroyAllWindows()\n",
    "\n",
    "# 사용 예시\n",
    "video_path = 'test.mp4'\n",
    "show_frame_and_get_coordinates(video_path)\n"
   ]
  },
  {
   "cell_type": "code",
   "execution_count": null,
   "metadata": {},
   "outputs": [],
   "source": []
  }
 ],
 "metadata": {
  "kernelspec": {
   "display_name": "study",
   "language": "python",
   "name": "python3"
  },
  "language_info": {
   "codemirror_mode": {
    "name": "ipython",
    "version": 3
   },
   "file_extension": ".py",
   "mimetype": "text/x-python",
   "name": "python",
   "nbconvert_exporter": "python",
   "pygments_lexer": "ipython3",
   "version": "3.7.16"
  }
 },
 "nbformat": 4,
 "nbformat_minor": 2
}
