{
 "cells": [
  {
   "cell_type": "code",
   "execution_count": 1,
   "metadata": {},
   "outputs": [
    {
     "name": "stderr",
     "output_type": "stream",
     "text": [
      "Using TensorFlow backend.\n"
     ]
    }
   ],
   "source": [
    "import keras\n",
    "from keras.models import Sequential\n",
    "from keras.layers import Conv2D, MaxPooling2D, Dense, Flatten, Dropout\n",
    "from keras.optimizers import Adam\n",
    "from keras.callbacks import TensorBoard\n",
    "\n",
    "import numpy as np\n",
    "import pandas as pd\n",
    "import matplotlib.pyplot as plt\n",
    "from sklearn.model_selection import train_test_split\n",
    "\n",
    "from sklearn.metrics import confusion_matrix\n",
    "from sklearn.metrics import classification_report\n",
    "from sklearn.metrics import roc_curve, auc\n",
    "from sklearn.metrics import accuracy_score\n",
    "from keras.utils import np_utils\n",
    "import itertools\n",
    "\n",
    "import os\n",
    "import cv2\n",
    "\n",
    "import numpy as np"
   ]
  },
  {
   "cell_type": "code",
   "execution_count": 2,
   "metadata": {},
   "outputs": [
    {
     "name": "stdout",
     "output_type": "stream",
     "text": [
      "0 left1\n",
      "1 left2\n",
      "2 left3\n",
      "3 left4\n",
      "4 no\n",
      "5 right1\n",
      "6 right2\n",
      "7 right3\n",
      "8 right4\n",
      "9 str1\n",
      "10 str2\n",
      "11 str3\n",
      "12 str4\n"
     ]
    }
   ],
   "source": [
    "path = 'str' # 데이터셋 경로\n",
    "image_size = 128 # 이미지 크기\n",
    "test_size = 0.15 # test set 비율\n",
    "\n",
    "# 데이터셋 내 폴더들을 리스트로 추출\n",
    "folders = [f for f in os.listdir(path) if os.path.isdir(os.path.join(path, f))]\n",
    "\n",
    "# 각 폴더 내 이미지 파일들을 불러와서 흑백으로 변환하고 라벨링\n",
    "images = []\n",
    "labels = []\n",
    "for i, folder in enumerate(folders):\n",
    "    print(i, folder)\n",
    "    image_names = os.listdir(os.path.join(path, folder))\n",
    "    for image_name in image_names:\n",
    "        image_path = os.path.join(path, folder, image_name)\n",
    "        image = cv2.imread(image_path)\n",
    "        image = cv2.cvtColor(image, cv2.COLOR_BGR2GRAY)\n",
    "        image = cv2.resize(image, (image_size, image_size))\n",
    "        images.append(image)\n",
    "        labels.append(i)\n",
    "\n",
    "# 불러온 이미지와 라벨을 numpy 배열로 변환\n",
    "images = np.array(images)\n",
    "labels = np.array(labels)\n",
    "\n",
    "# train과 test set을 나눔\n",
    "X_train, X_test, y_train, y_test = train_test_split(images, labels, test_size=test_size, random_state=42)"
   ]
  },
  {
   "cell_type": "code",
   "execution_count": 3,
   "metadata": {},
   "outputs": [
    {
     "name": "stdout",
     "output_type": "stream",
     "text": [
      "x_train : (2465, 128, 128)\n",
      "Y-train shape: (2465,)\n",
      "x_test shape: (435, 128, 128)\n"
     ]
    }
   ],
   "source": [
    "# 크기 확인\n",
    "print('x_train : {}'.format(X_train.shape))\n",
    "print('Y-train shape: {}'.format(y_train.shape))\n",
    "print('x_test shape: {}'.format(X_test.shape))"
   ]
  },
  {
   "cell_type": "code",
   "execution_count": 4,
   "metadata": {},
   "outputs": [],
   "source": [
    "# train과 valid 파일 분\n",
    "X_train, X_valid, y_train, y_valid= train_test_split(\n",
    "    X_train, y_train, test_size=.1766, random_state=1234,)\n",
    "\n",
    "# 흑백 이미지의 경우 채널 축을 추가하여 차원을 (샘플 수, 높이, 너비, 채널)으로 변경합니다.\n",
    "X_train = np.expand_dims(X_train, axis=-1)\n",
    "X_valid = np.expand_dims(X_valid, axis=-1)\n",
    "X_test = np.expand_dims(X_test, axis=-1)\n"
   ]
  },
  {
   "cell_type": "code",
   "execution_count": 5,
   "metadata": {},
   "outputs": [
    {
     "name": "stdout",
     "output_type": "stream",
     "text": [
      "(128, 128, 1)\n",
      "x_train shape: (2029, 128, 128, 1)\n",
      "x_test shape: (436, 128, 128, 1)\n"
     ]
    }
   ],
   "source": [
    "#input size와 shape 확인\n",
    "im_rows=128\n",
    "im_cols=128\n",
    "batch_size=64\n",
    "im_shape=(im_rows, im_cols, 1)\n",
    "X_test_expanded = np.expand_dims(X_test, axis=-1)\n",
    "print(im_shape)\n",
    "print('x_train shape: {}'.format(X_train.shape))\n",
    "print('x_test shape: {}'.format(X_valid.shape))"
   ]
  },
  {
   "cell_type": "code",
   "execution_count": 9,
   "metadata": {},
   "outputs": [],
   "source": [
    "#cnn 모델 생성\n",
    "\n",
    "cnn_model= Sequential([\n",
    "    Conv2D(filters=32, kernel_size=9, activation='relu', input_shape=im_shape),\n",
    "    MaxPooling2D(pool_size=2),\n",
    "    Conv2D(filters=256, kernel_size=7, activation='relu'),\n",
    "    MaxPooling2D(pool_size=2),\n",
    "    Conv2D(filters=256, kernel_size=5, activation='relu'),\n",
    "    MaxPooling2D(pool_size=2),\n",
    "    Conv2D(filters=256, kernel_size=3, activation='relu'),\n",
    "    MaxPooling2D(pool_size=2),\n",
    "    Flatten(),\n",
    "    Dense(1024, activation='relu'),\n",
    "    Dropout(0.5),\n",
    "    Dense(1024, activation='relu'),\n",
    "    Dropout(0.5),\n",
    "    Dense(2048, activation='relu'),\n",
    "    Dropout(0.5),\n",
    "    Dense(2048, activation='relu'),\n",
    "    Dropout(0.5),\n",
    "    #20 is the number of outputs\n",
    "    Dense(13, activation='softmax')  \n",
    "])\n",
    "\n",
    "cnn_model.compile(\n",
    "    loss='sparse_categorical_crossentropy',#'categorical_crossentropy',\n",
    "    optimizer=Adam(lr=0.0001),\n",
    "    metrics=['accuracy']\n",
    ")"
   ]
  },
  {
   "cell_type": "code",
   "execution_count": 10,
   "metadata": {},
   "outputs": [
    {
     "name": "stdout",
     "output_type": "stream",
     "text": [
      "_________________________________________________________________\n",
      "Layer (type)                 Output Shape              Param #   \n",
      "=================================================================\n",
      "conv2d_5 (Conv2D)            (None, 120, 120, 32)      2624      \n",
      "_________________________________________________________________\n",
      "max_pooling2d_5 (MaxPooling2 (None, 60, 60, 32)        0         \n",
      "_________________________________________________________________\n",
      "conv2d_6 (Conv2D)            (None, 54, 54, 256)       401664    \n",
      "_________________________________________________________________\n",
      "max_pooling2d_6 (MaxPooling2 (None, 27, 27, 256)       0         \n",
      "_________________________________________________________________\n",
      "conv2d_7 (Conv2D)            (None, 23, 23, 256)       1638656   \n",
      "_________________________________________________________________\n",
      "max_pooling2d_7 (MaxPooling2 (None, 11, 11, 256)       0         \n",
      "_________________________________________________________________\n",
      "conv2d_8 (Conv2D)            (None, 9, 9, 256)         590080    \n",
      "_________________________________________________________________\n",
      "max_pooling2d_8 (MaxPooling2 (None, 4, 4, 256)         0         \n",
      "_________________________________________________________________\n",
      "flatten_2 (Flatten)          (None, 4096)              0         \n",
      "_________________________________________________________________\n",
      "dense_6 (Dense)              (None, 1024)              4195328   \n",
      "_________________________________________________________________\n",
      "dropout_5 (Dropout)          (None, 1024)              0         \n",
      "_________________________________________________________________\n",
      "dense_7 (Dense)              (None, 1024)              1049600   \n",
      "_________________________________________________________________\n",
      "dropout_6 (Dropout)          (None, 1024)              0         \n",
      "_________________________________________________________________\n",
      "dense_8 (Dense)              (None, 2048)              2099200   \n",
      "_________________________________________________________________\n",
      "dropout_7 (Dropout)          (None, 2048)              0         \n",
      "_________________________________________________________________\n",
      "dense_9 (Dense)              (None, 2048)              4196352   \n",
      "_________________________________________________________________\n",
      "dropout_8 (Dropout)          (None, 2048)              0         \n",
      "_________________________________________________________________\n",
      "dense_10 (Dense)             (None, 13)                26637     \n",
      "=================================================================\n",
      "Total params: 14,200,141\n",
      "Trainable params: 14,200,141\n",
      "Non-trainable params: 0\n",
      "_________________________________________________________________\n"
     ]
    }
   ],
   "source": [
    "cnn_model.summary()"
   ]
  },
  {
   "cell_type": "code",
   "execution_count": 11,
   "metadata": {},
   "outputs": [
    {
     "name": "stdout",
     "output_type": "stream",
     "text": [
      "Train on 2029 samples, validate on 436 samples\n",
      "Epoch 1/250\n",
      " - 119s - loss: 3.0666 - acc: 0.2336 - val_loss: 2.3619 - val_acc: 0.2913\n",
      "\n",
      "Epoch 00001: val_loss improved from inf to 2.36194, saving model to best_emotion_model.h5\n",
      "Epoch 2/250\n",
      " - 116s - loss: 2.3383 - acc: 0.3144 - val_loss: 2.3846 - val_acc: 0.2913\n",
      "\n",
      "Epoch 00002: val_loss did not improve\n",
      "Epoch 3/250\n",
      " - 121s - loss: 2.2823 - acc: 0.3223 - val_loss: 2.3105 - val_acc: 0.2913\n",
      "\n",
      "Epoch 00003: val_loss improved from 2.36194 to 2.31046, saving model to best_emotion_model.h5\n",
      "Epoch 4/250\n",
      " - 122s - loss: 2.1792 - acc: 0.3228 - val_loss: 2.1893 - val_acc: 0.2913\n",
      "\n",
      "Epoch 00004: val_loss improved from 2.31046 to 2.18926, saving model to best_emotion_model.h5\n",
      "Epoch 5/250\n",
      " - 122s - loss: 2.0310 - acc: 0.3228 - val_loss: 2.0627 - val_acc: 0.2913\n",
      "\n",
      "Epoch 00005: val_loss improved from 2.18926 to 2.06267, saving model to best_emotion_model.h5\n",
      "Epoch 6/250\n",
      " - 117s - loss: 1.9281 - acc: 0.3243 - val_loss: 1.9233 - val_acc: 0.3073\n",
      "\n",
      "Epoch 00006: val_loss improved from 2.06267 to 1.92325, saving model to best_emotion_model.h5\n",
      "Epoch 7/250\n",
      " - 115s - loss: 1.8420 - acc: 0.3263 - val_loss: 1.8408 - val_acc: 0.3394\n",
      "\n",
      "Epoch 00007: val_loss improved from 1.92325 to 1.84079, saving model to best_emotion_model.h5\n",
      "Epoch 8/250\n",
      " - 115s - loss: 1.8073 - acc: 0.3346 - val_loss: 1.7649 - val_acc: 0.3807\n",
      "\n",
      "Epoch 00008: val_loss improved from 1.84079 to 1.76489, saving model to best_emotion_model.h5\n",
      "Epoch 9/250\n",
      " - 113s - loss: 1.7482 - acc: 0.3534 - val_loss: 1.7246 - val_acc: 0.3922\n",
      "\n",
      "Epoch 00009: val_loss improved from 1.76489 to 1.72464, saving model to best_emotion_model.h5\n",
      "Epoch 10/250\n",
      " - 113s - loss: 1.6761 - acc: 0.3903 - val_loss: 1.6209 - val_acc: 0.4541\n",
      "\n",
      "Epoch 00010: val_loss improved from 1.72464 to 1.62087, saving model to best_emotion_model.h5\n",
      "Epoch 11/250\n",
      " - 112s - loss: 1.4964 - acc: 0.4633 - val_loss: 1.3078 - val_acc: 0.5757\n",
      "\n",
      "Epoch 00011: val_loss improved from 1.62087 to 1.30778, saving model to best_emotion_model.h5\n",
      "Epoch 12/250\n",
      " - 114s - loss: 1.3036 - acc: 0.5377 - val_loss: 1.0720 - val_acc: 0.6422\n",
      "\n",
      "Epoch 00012: val_loss improved from 1.30778 to 1.07195, saving model to best_emotion_model.h5\n",
      "Epoch 13/250\n",
      " - 113s - loss: 1.1313 - acc: 0.5998 - val_loss: 0.7687 - val_acc: 0.7775\n",
      "\n",
      "Epoch 00013: val_loss improved from 1.07195 to 0.76870, saving model to best_emotion_model.h5\n",
      "Epoch 14/250\n",
      " - 112s - loss: 0.9133 - acc: 0.6782 - val_loss: 0.6165 - val_acc: 0.8028\n",
      "\n",
      "Epoch 00014: val_loss improved from 0.76870 to 0.61650, saving model to best_emotion_model.h5\n",
      "Epoch 15/250\n",
      " - 113s - loss: 0.7208 - acc: 0.7452 - val_loss: 0.4517 - val_acc: 0.8578\n",
      "\n",
      "Epoch 00015: val_loss improved from 0.61650 to 0.45175, saving model to best_emotion_model.h5\n",
      "Epoch 16/250\n",
      " - 120s - loss: 0.6162 - acc: 0.7851 - val_loss: 0.3816 - val_acc: 0.8853\n",
      "\n",
      "Epoch 00016: val_loss improved from 0.45175 to 0.38159, saving model to best_emotion_model.h5\n",
      "Epoch 17/250\n",
      " - 111s - loss: 0.5194 - acc: 0.8216 - val_loss: 0.3195 - val_acc: 0.8761\n",
      "\n",
      "Epoch 00017: val_loss improved from 0.38159 to 0.31946, saving model to best_emotion_model.h5\n",
      "Epoch 18/250\n",
      " - 114s - loss: 0.4505 - acc: 0.8443 - val_loss: 0.2974 - val_acc: 0.8968\n",
      "\n",
      "Epoch 00018: val_loss improved from 0.31946 to 0.29737, saving model to best_emotion_model.h5\n",
      "Epoch 19/250\n",
      " - 108s - loss: 0.4094 - acc: 0.8590 - val_loss: 0.2863 - val_acc: 0.8922\n",
      "\n",
      "Epoch 00019: val_loss improved from 0.29737 to 0.28627, saving model to best_emotion_model.h5\n",
      "Epoch 20/250\n",
      " - 111s - loss: 0.3760 - acc: 0.8724 - val_loss: 0.2217 - val_acc: 0.9220\n",
      "\n",
      "Epoch 00020: val_loss improved from 0.28627 to 0.22173, saving model to best_emotion_model.h5\n",
      "Epoch 21/250\n",
      " - 111s - loss: 0.3253 - acc: 0.8940 - val_loss: 0.2188 - val_acc: 0.9174\n",
      "\n",
      "Epoch 00021: val_loss improved from 0.22173 to 0.21880, saving model to best_emotion_model.h5\n",
      "Epoch 22/250\n",
      " - 114s - loss: 0.3213 - acc: 0.8940 - val_loss: 0.1751 - val_acc: 0.9312\n",
      "\n",
      "Epoch 00022: val_loss improved from 0.21880 to 0.17510, saving model to best_emotion_model.h5\n",
      "Epoch 23/250\n",
      " - 111s - loss: 0.3111 - acc: 0.8990 - val_loss: 0.1940 - val_acc: 0.9289\n",
      "\n",
      "Epoch 00023: val_loss did not improve\n",
      "Epoch 24/250\n",
      " - 110s - loss: 0.2690 - acc: 0.9059 - val_loss: 0.1624 - val_acc: 0.9404\n",
      "\n",
      "Epoch 00024: val_loss improved from 0.17510 to 0.16244, saving model to best_emotion_model.h5\n",
      "Epoch 25/250\n",
      " - 111s - loss: 0.2857 - acc: 0.9034 - val_loss: 0.1800 - val_acc: 0.9243\n",
      "\n",
      "Epoch 00025: val_loss did not improve\n",
      "Epoch 26/250\n",
      " - 111s - loss: 0.2376 - acc: 0.9192 - val_loss: 0.1210 - val_acc: 0.9587\n",
      "\n",
      "Epoch 00026: val_loss improved from 0.16244 to 0.12099, saving model to best_emotion_model.h5\n",
      "Epoch 27/250\n",
      " - 110s - loss: 0.2218 - acc: 0.9211 - val_loss: 0.1285 - val_acc: 0.9518\n",
      "\n",
      "Epoch 00027: val_loss did not improve\n",
      "Epoch 28/250\n",
      " - 112s - loss: 0.2213 - acc: 0.9266 - val_loss: 0.1253 - val_acc: 0.9541\n",
      "\n",
      "Epoch 00028: val_loss did not improve\n",
      "Epoch 29/250\n",
      " - 113s - loss: 0.1939 - acc: 0.9330 - val_loss: 0.0987 - val_acc: 0.9587\n",
      "\n",
      "Epoch 00029: val_loss improved from 0.12099 to 0.09867, saving model to best_emotion_model.h5\n",
      "Epoch 30/250\n",
      " - 110s - loss: 0.1917 - acc: 0.9359 - val_loss: 0.1050 - val_acc: 0.9633\n",
      "\n",
      "Epoch 00030: val_loss did not improve\n",
      "Epoch 31/250\n",
      " - 113s - loss: 0.1736 - acc: 0.9438 - val_loss: 0.1157 - val_acc: 0.9587\n",
      "\n",
      "Epoch 00031: val_loss did not improve\n",
      "Epoch 32/250\n",
      " - 111s - loss: 0.1671 - acc: 0.9389 - val_loss: 0.1294 - val_acc: 0.9610\n",
      "\n",
      "Epoch 00032: val_loss did not improve\n",
      "Epoch 33/250\n",
      " - 111s - loss: 0.1498 - acc: 0.9478 - val_loss: 0.0900 - val_acc: 0.9610\n",
      "\n",
      "Epoch 00033: val_loss improved from 0.09867 to 0.08999, saving model to best_emotion_model.h5\n",
      "Epoch 34/250\n",
      " - 111s - loss: 0.1482 - acc: 0.9542 - val_loss: 0.1218 - val_acc: 0.9610\n",
      "\n",
      "Epoch 00034: val_loss did not improve\n",
      "Epoch 35/250\n",
      " - 118s - loss: 0.1277 - acc: 0.9586 - val_loss: 0.0756 - val_acc: 0.9679\n",
      "\n",
      "Epoch 00035: val_loss improved from 0.08999 to 0.07564, saving model to best_emotion_model.h5\n",
      "Epoch 36/250\n",
      " - 117s - loss: 0.1344 - acc: 0.9537 - val_loss: 0.0889 - val_acc: 0.9656\n",
      "\n",
      "Epoch 00036: val_loss did not improve\n",
      "Epoch 37/250\n",
      " - 118s - loss: 0.1259 - acc: 0.9576 - val_loss: 0.1150 - val_acc: 0.9656\n",
      "\n",
      "Epoch 00037: val_loss did not improve\n",
      "Epoch 38/250\n",
      " - 123s - loss: 0.1134 - acc: 0.9601 - val_loss: 0.0839 - val_acc: 0.9725\n",
      "\n",
      "Epoch 00038: val_loss did not improve\n",
      "Epoch 39/250\n",
      " - 121s - loss: 0.1022 - acc: 0.9675 - val_loss: 0.0922 - val_acc: 0.9679\n",
      "\n",
      "Epoch 00039: val_loss did not improve\n",
      "Epoch 40/250\n",
      " - 116s - loss: 0.1097 - acc: 0.9645 - val_loss: 0.1179 - val_acc: 0.9656\n",
      "\n",
      "Epoch 00040: val_loss did not improve\n",
      "Epoch 41/250\n",
      " - 125s - loss: 0.0969 - acc: 0.9660 - val_loss: 0.0888 - val_acc: 0.9725\n",
      "\n",
      "Epoch 00041: val_loss did not improve\n",
      "Epoch 42/250\n",
      " - 132s - loss: 0.0906 - acc: 0.9690 - val_loss: 0.1163 - val_acc: 0.9679\n",
      "\n",
      "Epoch 00042: val_loss did not improve\n",
      "Epoch 43/250\n",
      " - 117s - loss: 0.0769 - acc: 0.9763 - val_loss: 0.1236 - val_acc: 0.9633\n",
      "\n",
      "Epoch 00043: val_loss did not improve\n",
      "Epoch 44/250\n",
      " - 115s - loss: 0.0977 - acc: 0.9665 - val_loss: 0.1060 - val_acc: 0.9656\n",
      "\n",
      "Epoch 00044: val_loss did not improve\n",
      "Epoch 45/250\n",
      " - 122s - loss: 0.0906 - acc: 0.9675 - val_loss: 0.1090 - val_acc: 0.9679\n",
      "\n",
      "Epoch 00045: val_loss did not improve\n"
     ]
    }
   ],
   "source": [
    "from keras.callbacks import EarlyStopping\n",
    "from keras.callbacks import ModelCheckpoint\n",
    "# val_loss가 epoch 10 이상 오르지 않으면 stop\n",
    "early_stopping = EarlyStopping(monitor='val_loss', patience=10)\n",
    "# 콜백 함수 정의\n",
    "checkpoint = ModelCheckpoint('best_model.h5', monitor='val_loss', save_best_only=True, mode='min', verbose=1)\n",
    "\n",
    "# 모델 훈련 과정에서 콜백 함수를 사용하여 최고의 성능을 보인 모델을 저장\n",
    "\n",
    "history=cnn_model.fit(\n",
    "    np.array(X_train), np.array(y_train), batch_size=64,\n",
    "    epochs=250, verbose=2,\n",
    "    validation_data=(np.array(X_valid),np.array(y_valid)),\n",
    "    callbacks=[early_stopping, checkpoint]\n",
    ")"
   ]
  },
  {
   "cell_type": "code",
   "execution_count": 14,
   "metadata": {},
   "outputs": [
    {
     "name": "stdout",
     "output_type": "stream",
     "text": [
      "test los 0.1009\n",
      "test acc 0.9770\n"
     ]
    }
   ],
   "source": [
    "# test에 대한 loss와 accuracy 확인인\n",
    "scor = cnn_model.evaluate( np.array(X_test),  np.array(y_test), verbose=0)\n",
    "\n",
    "print('test los {:.4f}'.format(scor[0]))\n",
    "print('test acc {:.4f}'.format(scor[1]))"
   ]
  },
  {
   "cell_type": "code",
   "execution_count": 16,
   "metadata": {},
   "outputs": [
    {
     "name": "stdout",
     "output_type": "stream",
     "text": [
      "dict_keys(['val_loss', 'val_acc', 'loss', 'acc'])\n"
     ]
    },
    {
     "data": {
      "image/png": "[encoded data removed]",
      "text/plain": [
       "<Figure size 640x480 with 1 Axes>"
      ]
     },
     "metadata": {},
     "output_type": "display_data"
    },
    {
     "data": {
      "image/png": "[encoded data removed]",
      "text/plain": [
       "<Figure size 640x480 with 1 Axes>"
      ]
     },
     "metadata": {},
     "output_type": "display_data"
    }
   ],
   "source": [
    "# 히스토리에 있는 키들 출력력\n",
    "print(history.history.keys())\n",
    "# accuracy의 history를 그래프로 보여 줌\n",
    "plt.plot(history.history['acc'])\n",
    "plt.plot(history.history['val_acc'])\n",
    "plt.title('model accuracy')\n",
    "plt.ylabel('accuracy')\n",
    "plt.xlabel('epoch')\n",
    "plt.legend(['train', 'val'], loc='upper left')\n",
    "plt.show()\n",
    "# loss history를 그래포로 보여 줌\n",
    "plt.plot(history.history['loss'])\n",
    "plt.plot(history.history['val_loss'])\n",
    "plt.title('model loss')\n",
    "plt.ylabel('loss')\n",
    "plt.xlabel('epoch')\n",
    "plt.legend(['train', 'val'], loc='upper left')\n",
    "plt.show()"
   ]
  },
  {
   "cell_type": "code",
   "execution_count": null,
   "metadata": {},
   "outputs": [],
   "source": []
  }
 ],
 "metadata": {
  "kernelspec": {
   "display_name": "study",
   "language": "python",
   "name": "python3"
  },
  "language_info": {
   "codemirror_mode": {
    "name": "ipython",
    "version": 3
   },
   "file_extension": ".py",
   "mimetype": "text/x-python",
   "name": "python",
   "nbconvert_exporter": "python",
   "pygments_lexer": "ipython3",
   "version": "3.7.16"
  }
 },
 "nbformat": 4,
 "nbformat_minor": 2
}
