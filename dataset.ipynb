{
 "cells": [
  {
   "cell_type": "code",
   "execution_count": 1,
   "metadata": {},
   "outputs": [],
   "source": [
    "import cv2"
   ]
  },
  {
   "cell_type": "code",
   "execution_count": 17,
   "metadata": {},
   "outputs": [],
   "source": [
    "def crop_and_save_frames_cv_only(video_path, output_folder, crop_area, fps=20):\n",
    "    \"\"\"\n",
    "    영상을 불러와 지정된 부분을 크롭하고 프레임 단위로 저장합니다. (cv2만 사용)\n",
    "    \n",
    "    Parameters:\n",
    "    - video_path: 처리할 영상의 경로\n",
    "    - output_folder: 크롭된 프레임을 저장할 폴더 경로\n",
    "    - crop_area: 크롭할 영역 (x, y, width, height)\n",
    "    - fps: 저장할 프레임의 FPS\n",
    "    \"\"\"\n",
    "    # 영상을 불러옵니다.\n",
    "    cap = cv2.VideoCapture(video_path)\n",
    "    if not cap.isOpened():\n",
    "        print(\"Error: Could not open video.\")\n",
    "        return\n",
    "    \n",
    "    # 영상의 원본 FPS를 가져옵니다.\n",
    "    original_fps = cap.get(cv2.CAP_PROP_FPS)\n",
    "    frame_interval = 1\n",
    "    frame_count = 0\n",
    "    while True:\n",
    "        ret, frame = cap.read()\n",
    "        if not ret:\n",
    "            break\n",
    "        \n",
    "        # 지정된 FPS에 해당하는 프레임만 처리합니다.\n",
    "        if frame_count % frame_interval == 0:\n",
    "            # 크롭 영역을 적용하여 프레임을 잘라냅니다.\n",
    "            x, y, w, h = crop_area\n",
    "            cropped_frame = frame[y:y+h, x:x+w]\n",
    "            \n",
    "            # 크롭된 프레임을 파일로 저장합니다.\n",
    "            frame_filename = f\"{output_folder}/no_{frame_count // frame_interval}.jpg\"\n",
    "            cv2.imwrite(frame_filename, cropped_frame)\n",
    "        \n",
    "        frame_count += 1\n",
    "    \n",
    "    cap.release()\n",
    "    print(\"Done: Frames have been saved.\")"
   ]
  },
  {
   "cell_type": "code",
   "execution_count": 19,
   "metadata": {},
   "outputs": [
    {
     "name": "stdout",
     "output_type": "stream",
     "text": [
      "Done: Frames have been saved.\n"
     ]
    }
   ],
   "source": [
    "# 사용 예시\n",
    "video_path = 'normal.mp4'\n",
    "output_folder = 'str'\n",
    "crop_area = (570, 220, 210, 180)  # 크롭할 영역 (x, y, width, height)\n",
    "\n",
    "crop_and_save_frames_cv_only(video_path, output_folder, crop_area, fps=20)"
   ]
  },
  {
   "cell_type": "code",
   "execution_count": null,
   "metadata": {},
   "outputs": [],
   "source": []
  }
 ],
 "metadata": {
  "kernelspec": {
   "display_name": "study",
   "language": "python",
   "name": "python3"
  },
  "language_info": {
   "codemirror_mode": {
    "name": "ipython",
    "version": 3
   },
   "file_extension": ".py",
   "mimetype": "text/x-python",
   "name": "python",
   "nbconvert_exporter": "python",
   "pygments_lexer": "ipython3",
   "version": "3.7.16"
  }
 },
 "nbformat": 4,
 "nbformat_minor": 2
}
